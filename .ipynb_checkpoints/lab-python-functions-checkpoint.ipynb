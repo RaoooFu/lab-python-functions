{
 "cells": [
  {
   "cell_type": "markdown",
   "id": "25d7736c-ba17-4aff-b6bb-66eba20fbf4e",
   "metadata": {},
   "source": [
    "# Lab | Functions"
   ]
  },
  {
   "cell_type": "markdown",
   "id": "0c581062-8967-4d93-b06e-62833222f930",
   "metadata": {
    "tags": []
   },
   "source": [
    "## Exercise: Managing Customer Orders with Functions\n",
    "\n",
    "In the previous exercise, you improved the code for managing customer orders by using loops and flow control. Now, let's take it a step further and refactor the code by introducing functions.\n",
    "\n",
    "Follow the steps below to complete the exercise:\n",
    "\n",
    "1. Define a function named `initialize_inventory` that takes `products` as a parameter. Inside the function, implement the code for initializing the inventory dictionary using a loop and user input.\n",
    "\n",
    "2. Define a function named `get_customer_orders` that takes no parameters. Inside the function, implement the code for prompting the user to enter the product names using a loop. The function should return the `customer_orders` set.\n",
    "\n",
    "3. Define a function named `update_inventory` that takes `customer_orders` and `inventory` as parameters. Inside the function, implement the code for updating the inventory dictionary based on the customer orders.\n",
    "\n",
    "4. Define a function named `calculate_order_statistics` that takes `customer_orders` and `products` as parameters. Inside the function, implement the code for calculating the order statistics (total products ordered, and percentage of unique products ordered). The function should return these values.\n",
    "\n",
    "5. Define a function named `print_order_statistics` that takes `order_statistics` as a parameter. Inside the function, implement the code for printing the order statistics.\n",
    "\n",
    "6. Define a function named `print_updated_inventory` that takes `inventory` as a parameter. Inside the function, implement the code for printing the updated inventory.\n",
    "\n",
    "7. Call the functions in the appropriate sequence to execute the program and manage customer orders.\n",
    "\n",
    "Hints for functions:\n",
    "\n",
    "- Consider the input parameters required for each function and their return values.\n",
    "- Utilize function parameters and return values to transfer data between functions.\n",
    "- Test your functions individually to ensure they work correctly.\n",
    "\n",
    "\n"
   ]
  },
  {
   "cell_type": "code",
   "execution_count": 212,
   "id": "49c468ba-d25d-4e96-9646-5f27abb28b79",
   "metadata": {},
   "outputs": [
    {
     "name": "stdin",
     "output_type": "stream",
     "text": [
      "Please input the quantity of the product:  3\n",
      "Please input the quantity of the product:  4\n",
      "Please input the quantity of the product:  5\n",
      "Please input the quantity of the product:  6\n",
      "Please input the quantity of the product:  7\n"
     ]
    },
    {
     "name": "stdout",
     "output_type": "stream",
     "text": [
      "{'t-shirt': 3, 'mug': 4, 'hat': 5, 'book': 6, 'keychain': 7}\n"
     ]
    }
   ],
   "source": [
    "#step 1:\n",
    "\n",
    "products = ['t-shirt', 'mug', 'hat', 'book', 'keychain']\n",
    "\n",
    "inventory= {}\n",
    "\n",
    "def initialize_inventory(products):\n",
    "    for product in products:\n",
    "        quantity=int(input(\"Please input the quantity of the product: \"))\n",
    "        inventory[product]=quantity\n",
    "    return inventory\n",
    "\n",
    "inventory=initialize_inventory(products)\n",
    "\n",
    "print(inventory)    "
   ]
  },
  {
   "cell_type": "code",
   "execution_count": 214,
   "id": "9e11aa43-294b-4f01-9a70-32e98e96ce7f",
   "metadata": {},
   "outputs": [
    {
     "name": "stdin",
     "output_type": "stream",
     "text": [
      "How many orders would you like to buy? 3\n",
      "Please tell us what you would like to buy: mug\n",
      "Please tell us what you would like to buy: keychain\n",
      "Please tell us what you would like to buy: book\n"
     ]
    },
    {
     "name": "stdout",
     "output_type": "stream",
     "text": [
      "The customer would like to order:{'mug', 'keychain', 'book'}\n"
     ]
    }
   ],
   "source": [
    "#step 2:\n",
    "#Define a function named `get_customer_orders` that takes no parameters. \n",
    "#Inside the function, implement the code for prompting the user to enter the product names using a loop. \n",
    "#The function should return the `customer_orders` set.\n",
    "customer_orders=set()\n",
    "num_order=int(input(\"How many orders would you like to buy?\"))\n",
    "\n",
    "def get_customer_orders():\n",
    "    for customer_order in range(num_order):\n",
    "        customer_order=input(\"Please tell us what you would like to buy:\")\n",
    "        if customer_order in products:\n",
    "            customer_orders.add(customer_order)\n",
    "    return customer_orders\n",
    "\n",
    "customer_orders=get_customer_orders()\n",
    "\n",
    "print(f\"The customer would like to order:{customer_orders}\")"
   ]
  },
  {
   "cell_type": "code",
   "execution_count": 216,
   "id": "d18cd280-214d-4242-83ff-d776f900b387",
   "metadata": {},
   "outputs": [
    {
     "name": "stdout",
     "output_type": "stream",
     "text": [
      "The updated inventory list is:{'t-shirt': 3, 'mug': 3, 'hat': 5, 'book': 5, 'keychain': 6}\n"
     ]
    }
   ],
   "source": [
    "#step 3: Define a function named `update_inventory` that takes `customer_orders` and `inventory` as parameters.\n",
    "#Inside the function, implement the code for updating the inventory dictionary based on the customer orders.\n",
    "def update_inventory(customer_orders,inventory):\n",
    "    for customer_order in customer_orders:\n",
    "        if customer_order in inventory: # you must also make sure there is a condition linking them\n",
    "            inventory[customer_order]-=1\n",
    "    return inventory\n",
    "\n",
    "inventory =update_inventory(customer_orders,inventory)\n",
    "\n",
    "print(f\"The updated inventory list is:{inventory}\")\n"
   ]
  },
  {
   "cell_type": "code",
   "execution_count": 218,
   "id": "4f284fa6-78c5-4e0d-9ab7-52470912dcfe",
   "metadata": {},
   "outputs": [
    {
     "name": "stdout",
     "output_type": "stream",
     "text": [
      "The total products ordered is: 3, the percentage of unique products ordered is 60.0%\n"
     ]
    }
   ],
   "source": [
    "#step 4 \n",
    "def calculate_order_statistics(customer_orders,products):\n",
    "    total_products=len(products)\n",
    "    total_products_ordered=len(customer_orders)\n",
    "    percentage= (total_products_ordered/total_products)*100\n",
    "    return total_products_ordered, percentage #You're trying to print variables that don't exist in the global scope\n",
    "\n",
    "total_products_ordered, percentage = calculate_order_statistics(customer_orders, products)#important as well\n",
    "\n",
    "print(f\"The total products ordered is: {total_products_ordered}, the percentage of unique products ordered is {percentage}%\")\n",
    "    "
   ]
  },
  {
   "cell_type": "code",
   "execution_count": 220,
   "id": "c599f7b2-252c-4d2d-9094-44421a8bf8d5",
   "metadata": {},
   "outputs": [
    {
     "name": "stdout",
     "output_type": "stream",
     "text": [
      "The total products ordered is 3, The percentage is 60.0%\n"
     ]
    }
   ],
   "source": [
    "#step 5: print_order_statistics that takes order_statistics as a parameter. \n",
    "#Inside the function, implement the code for printing the order statistics.\n",
    "order_statistics=(total_products_ordered, percentage)\n",
    "def print_order_statistics(order_statistics):\n",
    "    order_statistics=(total_products_ordered, percentage)\n",
    "    return total_products_ordered, percentage\n",
    "print(f\"The total products ordered is {total_products_ordered}, The percentage is {percentage}%\")"
   ]
  },
  {
   "cell_type": "code",
   "execution_count": 224,
   "id": "d8a46b5b-0bc8-4935-acc9-bbce33879e11",
   "metadata": {},
   "outputs": [
    {
     "name": "stdout",
     "output_type": "stream",
     "text": [
      "<function print_updated_inventory at 0x1087f1800>\n"
     ]
    }
   ],
   "source": [
    "#step 6: \n",
    "inventory =update_inventory(customer_orders,inventory)\n",
    "\n",
    "def print_updated_inventory(inventory):\n",
    "    print_updated_inventory=inventory\n",
    "    return print_updated_inventory\n",
    "\n",
    "print(print_updated_inventory)\n",
    "        \n"
   ]
  },
  {
   "cell_type": "code",
   "execution_count": null,
   "id": "3944f17c-269f-42ce-9da0-57c86b49bf89",
   "metadata": {},
   "outputs": [],
   "source": []
  },
  {
   "cell_type": "code",
   "execution_count": null,
   "id": "f8fec5bc-3e9f-4d07-914d-0ba980ce2c80",
   "metadata": {},
   "outputs": [],
   "source": []
  }
 ],
 "metadata": {
  "kernelspec": {
   "display_name": "Python [conda env:base] *",
   "language": "python",
   "name": "conda-base-py"
  },
  "language_info": {
   "codemirror_mode": {
    "name": "ipython",
    "version": 3
   },
   "file_extension": ".py",
   "mimetype": "text/x-python",
   "name": "python",
   "nbconvert_exporter": "python",
   "pygments_lexer": "ipython3",
   "version": "3.12.7"
  }
 },
 "nbformat": 4,
 "nbformat_minor": 5
}
